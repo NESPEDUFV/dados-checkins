{
 "cells": [
  {
   "cell_type": "code",
   "execution_count": 4,
   "metadata": {},
   "outputs": [],
   "source": [
    "import pandas as pd\n",
    "import math\n",
    "import numpy as np\n",
    "from os import path"
   ]
  },
  {
   "cell_type": "code",
   "execution_count": 11,
   "metadata": {},
   "outputs": [],
   "source": [
    "category_dict = {\n",
    "    0: \"Community\",\n",
    "    1: \"Entertainment\",\n",
    "    2: \"Food\",\n",
    "    3: \"Nightlife\",\n",
    "    4: \"Outdoors\",\n",
    "    5: \"Shopping\",\n",
    "    6: \"Travel\"\n",
    "}"
   ]
  },
  {
   "cell_type": "code",
   "execution_count": 16,
   "metadata": {},
   "outputs": [
    {
     "name": "stdout",
     "output_type": "stream",
     "text": [
      "Alabama 0\n",
      "Alaska 1\n",
      "American Samoa 2\n",
      "Arizona 3\n",
      "Arkansas 4\n",
      "California 5\n",
      "Colorado 6\n",
      "Commonwealth of the Northern Mariana Islands 7\n",
      "Connecticut 8\n",
      "Delaware 9\n",
      "District of Columbia 10\n",
      "Florida 11\n",
      "Georgia 12\n",
      "Guam 13\n",
      "Hawaii 14\n",
      "Idaho 15\n",
      "Illinois 16\n",
      "Indiana 17\n",
      "Iowa 18\n",
      "Kansas 19\n",
      "Kentucky 20\n",
      "Louisiana 21\n",
      "Maine 22\n",
      "Maryland 23\n",
      "Massachusetts 24\n",
      "Michigan 25\n",
      "Minnesota 26\n",
      "Mississippi 27\n",
      "Missouri 28\n",
      "Montana 29\n",
      "Nebraska 30\n",
      "Nevada 31\n",
      "New Hampshire 32\n",
      "New Jersey 33\n",
      "New Mexico 34\n",
      "New York 35\n",
      "North Carolina 36\n",
      "North Dakota 37\n",
      "Ohio 38\n",
      "Oklahoma 39\n",
      "Oregon 40\n",
      "Pennsylvania 41\n",
      "Puerto Rico 42\n",
      "Rhode Island 43\n",
      "South Carolina 44\n",
      "South Dakota 45\n",
      "Tennessee 46\n",
      "Texas 47\n",
      "United States Virgin Islands 48\n",
      "Utah 49\n",
      "Vermont 50\n",
      "Virginia 51\n",
      "Washington 52\n",
      "West Virginia 53\n",
      "Wisconsin 54\n",
      "Wyoming 55\n"
     ]
    }
   ],
   "source": [
    "from glob import glob\n",
    "files = glob('/media/gegen07/Expansion/data/mestrado/gowalla/checkins_separated_categories/*.csv')\n",
    "cols = ['userid', 'datetime', 'lat', 'lng', 'placeid', 'categoryid']\n",
    "for index, f in enumerate(files):\n",
    "    state = path.basename(f).split('.')[0].split('_')[1]\n",
    "    print(state, index)\n",
    "\n",
    "    df = pd.read_csv(f, index_col=False, usecols = cols)\n",
    "    df['country'] = 'United States'\n",
    "    df['state'] = state\n",
    "    df['datetime'] = pd.to_datetime(df['datetime'])\n",
    "    order_cols = ['userid', 'categoryid', 'placeid', 'datetime', 'lat', 'lng', 'country', 'state']\n",
    "    df = df[order_cols]\n",
    "\n",
    "    new_cols = ['userid', 'category', 'placeid', 'local_datetime', 'latitude', 'longitude', 'country_name', 'state_name']\n",
    "    # Criar um dicionário que mapeia os nomes atuais das colunas para os novos nomes\n",
    "    maps = dict(zip(df.columns, new_cols))\n",
    "\n",
    "    # Renomear as colunas usando o método rename()\n",
    "    df = df.rename(columns=maps)\n",
    "\n",
    "    df['category'] = df['category'].apply(lambda x: category_dict[x])\n",
    "\n",
    "    df.to_csv(\"/media/gegen07/Expansion/data/mestrado/gowalla/checkins_preprocessed/checkins_{}.csv\".format(state), index=False)"
   ]
  },
  {
   "cell_type": "code",
   "execution_count": null,
   "metadata": {},
   "outputs": [],
   "source": []
  }
 ],
 "metadata": {
  "kernelspec": {
   "display_name": "havana-region",
   "language": "python",
   "name": "python3"
  },
  "language_info": {
   "codemirror_mode": {
    "name": "ipython",
    "version": 3
   },
   "file_extension": ".py",
   "mimetype": "text/x-python",
   "name": "python",
   "nbconvert_exporter": "python",
   "pygments_lexer": "ipython3",
   "version": "3.10.14"
  }
 },
 "nbformat": 4,
 "nbformat_minor": 2
}
